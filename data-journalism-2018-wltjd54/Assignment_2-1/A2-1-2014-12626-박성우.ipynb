{
 "cells": [
  {
   "cell_type": "markdown",
   "metadata": {},
   "source": [
    "# Assignment \\#2-1: Python Crash Course 1\n",
    "\n",
    "* 제출 방법: ETL (다음 주 일요일 9/19 자정까지)\n",
    "* 파일 이름: A2-1-학번-이름(영어로).iphynb 형식으로 (예: A2-1-13403-999-jiyoon.iphynb)"
   ]
  },
  {
   "cell_type": "markdown",
   "metadata": {},
   "source": [
    "#1. 다음의 프로그램을 작성하시오. (input()함수를 사용할 것)\n",
    "\n",
    "> 안녕하세요. 성을 입력해 주세요:  (성 입력의 예: 홍)\n",
    ">\n",
    "> 이름을 입력해 주세요:  (이름 입력의 예: 길동)\n",
    ">\n",
    "> 홍길동님의 나이는 몇살인가요: (나이 입력의 예: 30)\n",
    ">\n",
    "> 홍길동님은 지금까지 모두 ** xxxx **초를 살아왔군요.  \n",
    ">\n",
    "> 지금까지 이용해 주셔서 감사합니다. 홍길동님.\n",
    "\n",
    "(참고) 입력받은 나이는 숫자(int)가 아니라 문자열(string)임. 윤년 계산 등은 무시할 것."
   ]
  },
  {
   "cell_type": "code",
   "execution_count": 1,
   "metadata": {},
   "outputs": [
    {
     "name": "stdout",
     "output_type": "stream",
     "text": [
      "안녕하세요. 성을 입력해주세요: (성 입력의 예: 홍)박\n",
      "이름을 입력해주세요: (이름 입력의 예: 길동)성우\n",
      "박성우 님의 나이는 몇 살인가요: (나이 입력의 예: 30)24\n",
      "박성우님은 지금까지 모두 **756864000**초를 살아왔군요.\n",
      "지금까지 이용해 주셔서 감사합니다. 박성우님\n"
     ]
    }
   ],
   "source": [
    "family_name = input(\"안녕하세요. 성을 입력해주세요: (성 입력의 예: 홍)\")\n",
    "given_name = input(\"이름을 입력해주세요: (이름 입력의 예: 길동)\")\n",
    "name = family_name + given_name\n",
    "age = input(name + \" 님의 나이는 몇 살인가요: (나이 입력의 예: 30)\")\n",
    "living_sec = int(age) * 365 * 24 * 60 * 60\n",
    "print(\"%s님은 지금까지 모두 **%d**초를 살아왔군요.\" % (name, living_sec))\n",
    "print(\"지금까지 이용해 주셔서 감사합니다. %s님\" % name)"
   ]
  },
  {
   "cell_type": "markdown",
   "metadata": {},
   "source": [
    "#2. 다음을 계산하는 메소드를 만들고 계산 예를 적으시오.\n",
    "\n",
    "> 섭씨 <-> 화씨 변환 \n",
    "\n",
    "> 인치 <-> 센치 변환\n",
    "\n",
    "출력의 예: \n",
    "\n",
    "> 섭씨 oo도는 화씨로 oo도 입니다.\n",
    "\n",
    "> oo인치는 oo센티미터 입니다.\n",
    "\n",
    "(참고) round() 함수를 사용해 보자: round() 함수는 지정한 소수점에서 반올림하여 결과를 표시한다.\n",
    "\n",
    "> round(3.954839283, 3) # 소수점 3째 자리에서 반올림\n",
    "\n",
    "> 3.955 "
   ]
  },
  {
   "cell_type": "code",
   "execution_count": 3,
   "metadata": {},
   "outputs": [
    {
     "name": "stdout",
     "output_type": "stream",
     "text": [
      "섭씨 31.70도는 화씨로 89.06도 입니다.\n",
      "화씨 65.30도는 섭씨로 18.50도 입니다.\n",
      "31.48센티미터는 79.96인치입니다.\n",
      "21.71인치는 8.55센티미터입니다.\n"
     ]
    }
   ],
   "source": [
    "# 1. 온도 변환 메소드\n",
    "def temperature_c(tem): \n",
    "    fah = round(((9 / 5) * tem) + 32, 2)\n",
    "    print(\"섭씨 %.2f도는 화씨로 %.2f도 입니다.\" % (tem, fah))\n",
    "\n",
    "def temperature_f(tem):\n",
    "    cel = round((5 / 9) * (tem - 32), 2)\n",
    "    print(\"화씨 %.2f도는 섭씨로 %.2f도 입니다.\" % (tem, cel))\n",
    "\n",
    "temperature_c(31.7)\n",
    "temperature_f(65.3)\n",
    "\n",
    "# 2. 길이 변환 메소드\n",
    "def cen_to_in(cm):\n",
    "    inch = round(2.54 * cm, 2)\n",
    "    print(\"%.2f센티미터는 %.2f인치입니다.\" % (cm, inch))\n",
    "\n",
    "def in_to_cen(inch):\n",
    "    cm = round((1 / 2.54) * inch, 2)\n",
    "    print(\"%.2f인치는 %.2f센티미터입니다.\" % (inch, cm))\n",
    "\n",
    "cen_to_in(31.48)\n",
    "in_to_cen(21.71)"
   ]
  },
  {
   "cell_type": "markdown",
   "metadata": {},
   "source": [
    "#3. 다음을 출력하는 프로그램을 작성하시오.\n",
    "\n",
    "> 오늘은 oooo년 o월 o일, 크리스마스까지는 oo일 이나 남았네. 이 수업도 이제 oo번 밖에 안남았구나!"
   ]
  },
  {
   "cell_type": "code",
   "execution_count": 4,
   "metadata": {},
   "outputs": [
    {
     "name": "stdout",
     "output_type": "stream",
     "text": [
      "이제까지 수업을 몇 번 하셨습니까?: 2\n",
      "오늘은 2018년 09월 22일, 크리스마스까지는 95일이나 남았네. 이 수업도 이제 13번밖에 안 남았구나!\n"
     ]
    }
   ],
   "source": [
    "from datetime import datetime\n",
    "from time import strftime\n",
    "\n",
    "now = datetime.now()\n",
    "def calendar_module():\n",
    "    year = strftime(\"%Y\")\n",
    "    month = strftime(\"%m\")\n",
    "    day = strftime('%d')\n",
    "    date = now.day\n",
    "    remain_date = 30 - date + 31 + 31 + 25\n",
    "    class_count = input(\"이제까지 수업을 몇 번 하셨습니까?: \")\n",
    "    remain_class = 15 - int(class_count)\n",
    "    print(\"오늘은 %s년 %s월 %s일, 크리스마스까지는 %d일이나 남았네. 이 수업도 이제 %d번밖에 안 남았구나!\" %(year, month, day, remain_date, remain_class))\n",
    "\n",
    "calendar_module()"
   ]
  }
 ],
 "metadata": {
  "kernelspec": {
   "display_name": "Python 3",
   "language": "python",
   "name": "python3"
  },
  "language_info": {
   "codemirror_mode": {
    "name": "ipython",
    "version": 3
   },
   "file_extension": ".py",
   "mimetype": "text/x-python",
   "name": "python",
   "nbconvert_exporter": "python",
   "pygments_lexer": "ipython3",
   "version": "3.7.0"
  }
 },
 "nbformat": 4,
 "nbformat_minor": 1
}
