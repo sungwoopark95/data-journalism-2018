{
 "cells": [
  {
   "cell_type": "markdown",
   "metadata": {},
   "source": [
    "# Assignment 3 - Data Cleaning and Analysis\n",
    "\n",
    "이번 과제에서 학생들은 주어진 데이터를 clean up 하고 분석하는 연습을 하게 될 것이다.\n",
    "\n",
    "두개의 지정된 질문에 대한 답을 하여야 하고 세개의 질문을 스스로 만들어 코드와 함께 결과를 제시한다.\n",
    "\n",
    "* 제출 방법: GitHub (10/21 자정까지)\n",
    "* 파일 이름: A3-학번-이름(영어로).iphynb 형식으로 (예: A3-13403-999-jiyoon.iphynb)"
   ]
  },
  {
   "cell_type": "markdown",
   "metadata": {},
   "source": [
    "### Dataset\n",
    "\n",
    "타이타닉호의 모든 승객, 승무원의 정보와 생존자, 사망자 정보는 다음의 웹사이트에 잘 정리되어있다.\n",
    "* http://biostat.mc.vanderbilt.edu/wiki/pub/Main/DataSets/titanic.html\n",
    "\n",
    "본 과제에서 제시하는 데이터는 해당 웹사이트의 정보를 담고 있다. 다음의 데이터를 다운로드하여 분석하고 아래의 질문에 답하시오.\n",
    "* 데이터: http://biostat.mc.vanderbilt.edu/wiki/pub/Main/DataSets/titanic3.xls\n",
    "* 데이터 설명: http://biostat.mc.vanderbilt.edu/wiki/pub/Main/DataSets/titanic.html\n",
    "* 데이터 변수 설명: http://biostat.mc.vanderbilt.edu/wiki/pub/Main/DataSets/titanic3info.txt"
   ]
  },
  {
   "cell_type": "markdown",
   "metadata": {},
   "source": [
    "### Q1: 생존자와 사망자의 평균 나이를 남녀를 구분하여 계산하시오."
   ]
  },
  {
   "cell_type": "code",
   "execution_count": 1,
   "metadata": {},
   "outputs": [
    {
     "name": "stdout",
     "output_type": "stream",
     "text": [
      "26.98\n",
      "29.82\n",
      "31.52\n",
      "25.26\n"
     ]
    },
    {
     "name": "stderr",
     "output_type": "stream",
     "text": [
      "c:\\users\\wltjd\\appdata\\local\\programs\\python\\python37\\lib\\site-packages\\pandas\\core\\generic.py:4405: SettingWithCopyWarning: \n",
      "A value is trying to be set on a copy of a slice from a DataFrame.\n",
      "Try using .loc[row_indexer,col_indexer] = value instead\n",
      "\n",
      "See the caveats in the documentation: http://pandas.pydata.org/pandas-docs/stable/indexing.html#indexing-view-versus-copy\n",
      "  self[name] = value\n"
     ]
    }
   ],
   "source": [
    "import pandas as pd\n",
    "import numpy as np\n",
    "\n",
    "titanic = pd.read_csv(\"titanic3.csv\")\n",
    "\n",
    "# 1. 먼저 filtering을 해서 생존자와 사망자로 구분한다.\n",
    "survived = titanic[titanic.survived == 1]\n",
    "dead = titanic[titanic.survived == 0]\n",
    "\n",
    "# 2. 데이터를 살펴보니 Age에 NaN으로 표기되어 있는 사람들이 있다. 얼마나 있는지 살펴보자.\n",
    "survived_empty = survived.apply(lambda col: pd.isnull(col))\n",
    "dead_empty = dead.apply(lambda col: pd.isnull(col))\n",
    "count_s = 0\n",
    "count_d = 0\n",
    "for i in range(len(survived_empty)):\n",
    "    if survived_empty.age.iloc[i] == True:\n",
    "        count_s += 1\n",
    "for i in range(len(dead_empty)):\n",
    "    if dead_empty.age.iloc[i] == True:\n",
    "        count_d += 1\n",
    "# 성별에도 missing data가 있는지 살펴본다\n",
    "count_sex_survived = 0\n",
    "count_sex_dead = 0\n",
    "for i in range(len(survived_empty)):\n",
    "    if survived_empty.sex.iloc[i] == True:\n",
    "        count_sex_survival += 1\n",
    "for i in range(len(dead_empty)):\n",
    "    if dead_empty.sex.iloc[i] == True:\n",
    "        count_sex_dead += 1\n",
    "count_sex = count_sex_survived + count_sex_dead\n",
    "# print(count_sex) # == 0\n",
    "# print(count_s) # == 73\n",
    "# print(count_d) # == 190\n",
    "# 현재 생존자 데이터에서는 73개의 나이가 빠져있고, 사망자 데이터에서는 190개의 나이가 빠져있다. 다행히 성별정보는 모두 있다.\n",
    "\n",
    "# 3. 따라서 이 분실된 데이터를 처리하기 위해 분실된 데이터에 빈 값을 채워넣는다\n",
    "survived.age = survived.age.fillna(\"\")\n",
    "dead.age = dead.age.fillna(\"\")\n",
    "\n",
    "# 4. 이 상태에서 각각의 데이터를 다시 남녀로 구분한다.\n",
    "survived_male = survived[survived.sex == \"male\"]\n",
    "survived_female = survived[survived.sex == \"female\"]\n",
    "dead_male = dead[dead.sex == \"male\"]\n",
    "dead_female = dead[dead.sex == \"female\"]\n",
    "\n",
    "# 5. 각각의 데이터프레임에서 나이의 평균값을 내는 함수를 만든다. 단, 이때 age값이 0인 사람은 계산에서 배제한다\n",
    "def mean_age(col):\n",
    "    null_count = 0 # 빈 데이터의 개수를 세기 위한 변수\n",
    "    age_sum = 0 # 나이의 합을 구하기 위한 변수\n",
    "    for i in range(len(col)):\n",
    "        # 만일 칼럼의 값이 비어있다면 빈 데이터에 개수에 1개씩 추가해라\n",
    "        if col.iloc[i] == \"\":\n",
    "            null_count += 1\n",
    "        # 만일 칼럼의 값이 비어있지 않다면 그 값을 나이합에 합하라\n",
    "        else:\n",
    "            age_sum += col.iloc[i]\n",
    "    # 데이터가 실제로 있는 사람들의 나이 평균을 구해서 소수점 셋째 자리에서 반올림\n",
    "    mean = round(float(age_sum / (len(col) - null_count)), 2)\n",
    "    return mean\n",
    "\n",
    "print(mean_age(survived_male.age))\n",
    "print(mean_age(survived_female.age))\n",
    "print(mean_age(dead_male.age))\n",
    "print(mean_age(dead_female.age))"
   ]
  },
  {
   "cell_type": "markdown",
   "metadata": {},
   "source": [
    "### Q2: 생존자의 평균 티켓 가격과 사망자의 평균 티켓 가격을 구하고 비교하시오."
   ]
  },
  {
   "cell_type": "code",
   "execution_count": 2,
   "metadata": {},
   "outputs": [
    {
     "name": "stdout",
     "output_type": "stream",
     "text": [
      "49.36\n",
      "23.35\n"
     ]
    }
   ],
   "source": [
    "# 1. 이번엔 각각의 데이터프레임에서 티켓 가격이 비어 있는 항목이 있는지 살펴본다\n",
    "count_fs = 0\n",
    "count_fd = 0\n",
    "for i in range(len(survived_empty)):\n",
    "    if survived_empty.fare.iloc[i] == True:\n",
    "        count_fs += 1\n",
    "for i in range(len(dead_empty)):\n",
    "    if dead_empty.fare.iloc[i] == True:\n",
    "        count_fd += 1\n",
    "# print(count_fs) # == 0\n",
    "# print(count_fd) # == 1\n",
    "# 현재 사망자 데이터에 티켓값이 비어있는 사람이 1명 있다.\n",
    "dead_empty[dead_empty.fare == True]\n",
    "# print(dead.loc[1225])\n",
    "\n",
    "# 2. 현재 1225번째 승객의 운임이 빠져있다. 따라서 이 사람의 fare 데이터를 채워준다\n",
    "dead.fare = dead.fare.fillna(\"\")\n",
    "dead.loc[1225]\n",
    "\n",
    "# 3. 각각의 데이터프레임에 대해 평균 티켓값을 구하는 함수를 만든다.\n",
    "def mean_fare(col):\n",
    "    null_count = 0 # 빈 데이터의 개수를 세기 위한 변수\n",
    "    fare_sum = 0 # 운임의 합을 구하기 위한 변수\n",
    "    for i in range(len(col)):\n",
    "        # 만일 칼럼의 값이 비어있다면 빈 데이터에 개수에 1개씩 추가해라\n",
    "        if col.iloc[i] == \"\":\n",
    "            null_count += 1\n",
    "        # 만일 칼럼의 값이 비어있지 않다면 그 값을 나이합에 합하라\n",
    "        else:\n",
    "            fare_sum += col.iloc[i]\n",
    "    # 데이터가 실제로 있는 사람들의 운임 평균을 구해서 소수점 셋째 자리에서 반올림\n",
    "    mean = round(float(fare_sum / (len(col) - null_count)), 2)\n",
    "    return mean\n",
    "\n",
    "print(mean_fare(survived.fare))\n",
    "print(mean_fare(dead.fare))"
   ]
  },
  {
   "cell_type": "markdown",
   "metadata": {},
   "source": [
    "### Q3: 혼자 탑승한 승객은 어떤 class에 많이 탑승했는지 알아보고, class별 생존자 비율을 구하시오"
   ]
  },
  {
   "cell_type": "code",
   "execution_count": 3,
   "metadata": {},
   "outputs": [
    {
     "name": "stdout",
     "output_type": "stream",
     "text": [
      "241\n",
      "229\n",
      "627\n",
      "\n",
      "58.51%\n",
      "44.98%\n",
      "25.36%\n"
     ]
    }
   ],
   "source": [
    "# 혼자 탑승한 승객만 filtering\n",
    "single = titanic[(titanic.parch == 0) & titanic.sibsp == 0]\n",
    "\n",
    "# 1. 먼저 class 데이터에 없는 값이 있는지 살펴본다\n",
    "empty_single = single.apply(lambda col: pd.isnull(col))\n",
    "null_pclass = 0\n",
    "for i in range(len(empty_single)):\n",
    "    if empty_single.pclass.iloc[i] == True:\n",
    "        null_pclass += 1\n",
    "# print(null_pclass) # == 1 \n",
    "# class값이 비어있는 곳이 있으므로 찾아본다\n",
    "empty_single[empty_single.pclass == True]\n",
    "# 위의 데이터는 아예 비어있는 row이므로 삭제한다\n",
    "single = single.dropna(how='all') # 데이터가 전부 비어있는 row를 삭제하는 메소드\n",
    "single\n",
    "# 즉 class 데이터는 모두 들어차있다\n",
    "\n",
    "# 2. 어떤 class에 많이 탑승했는지 알아본다.\n",
    "single_class1 = 0\n",
    "single_class2 = 0\n",
    "single_class3 = 0\n",
    "for i in range(len(single)):\n",
    "    if single.pclass.iloc[i] == 1:\n",
    "        single_class1 += 1\n",
    "    elif single.pclass.iloc[i] == 2:\n",
    "        single_class2 += 1\n",
    "    else:\n",
    "        single_class3 += 1\n",
    "print(single_class1)\n",
    "print(single_class2)\n",
    "print(single_class3)\n",
    "# print(single_else)\n",
    "\n",
    "# 3. 혼자 탑승한 승객의 class별 생존자 비율을 구한다\n",
    "single_class1_survived = 0\n",
    "single_class2_survived = 0\n",
    "single_class3_survived = 0\n",
    "for i in range(len(single)):\n",
    "    if single.pclass.iloc[i] == 1 and single.survived.iloc[i] == 1:\n",
    "        single_class1_survived += 1\n",
    "    elif single.pclass.iloc[i] == 2 and single.survived.iloc[i] == 1:\n",
    "        single_class2_survived += 1\n",
    "    elif single.pclass.iloc[i] == 3 and single.survived.iloc[i] == 1:\n",
    "        single_class3_survived += 1\n",
    "\n",
    "def ratio(a, b):\n",
    "    ratio = round((float(a / b) * 100), 2)\n",
    "    print(str(ratio) + \"%\")\n",
    "\n",
    "print(\"\")\n",
    "ratio(single_class1_survived, single_class1)\n",
    "ratio(single_class2_survived, single_class2)\n",
    "ratio(single_class3_survived, single_class3)"
   ]
  },
  {
   "cell_type": "markdown",
   "metadata": {},
   "source": [
    "### Q4: 가족승객 가운데, class별 평균 동반 인원수를 구하시오."
   ]
  },
  {
   "cell_type": "code",
   "execution_count": 4,
   "metadata": {},
   "outputs": [
    {
     "name": "stdout",
     "output_type": "stream",
     "text": [
      "1.59\n",
      "\n",
      "1.77\n",
      "\n",
      "2.9\n"
     ]
    }
   ],
   "source": [
    "# 가족 승객만 따로 filtering한다\n",
    "family = titanic[(titanic.parch != 0) | (titanic.sibsp != 0)]\n",
    "\n",
    "# 1. parch와 sibsp 각각의 column에 빈값이 있는지 살펴본다\n",
    "empty_family = family.apply(lambda col: pd.isnull(col))\n",
    "count = 0\n",
    "for i in range(len(empty_family)):\n",
    "    if (empty_family.sibsp.iloc[i] == True) or (empty_family.parch.iloc[i] == True):\n",
    "        count += 1\n",
    "# print(count)\n",
    "empty_family[(empty_family.sibsp == True) | (empty_family.parch == True)]\n",
    "# 전체가 비어있는 행이므로 삭제한다\n",
    "family = family.dropna(how='all')\n",
    "family\n",
    "\n",
    "# 2. 이 데이터를 다시 class별로 필터링한다\n",
    "family_class1 = family[family.pclass == 1]\n",
    "family_class2 = family[family.pclass == 2]\n",
    "family_class3 = family[family.pclass == 3]\n",
    "\n",
    "# 3. 동반 인원수 계산\n",
    "def mean_accompany(data, col1, col2):\n",
    "    accompany_1 = 0\n",
    "    accompany_2 = 0\n",
    "    for i in range(len(col1)):\n",
    "        accompany_1 += col1.iloc[i]\n",
    "    for i in range(len(col2)):\n",
    "        accompany_2 += col2.iloc[i]\n",
    "    sum_accompany = accompany_1 + accompany_2\n",
    "    mean_accompany = round(float(sum_accompany / len(data)), 2)\n",
    "    return mean_accompany\n",
    "\n",
    "print(mean_accompany(family_class1, family_class1.sibsp, family_class1.parch))\n",
    "print(\"\")\n",
    "print(mean_accompany(family_class2, family_class2.sibsp, family_class2.parch))\n",
    "print(\"\")\n",
    "print(mean_accompany(family_class3, family_class3.sibsp, family_class3.parch))"
   ]
  },
  {
   "cell_type": "markdown",
   "metadata": {},
   "source": [
    "### Q5: 각각의 승선항에서 어떤 class의 사람이 많이 탔는지 그 비율과, 그들의 평균 운임을 구하시오."
   ]
  },
  {
   "cell_type": "code",
   "execution_count": 11,
   "metadata": {},
   "outputs": [
    {
     "name": "stdout",
     "output_type": "stream",
     "text": [
      "Queensland에서 탄 사람의 class별 비율과 평균운임은 다음과 같다\n",
      "{'1st class': '2.44%', '2nd class': '5.69%', '3rd class': '91.87%'}\n",
      "12.41\n",
      "\n",
      "Cherbourg에서 탄 사람의 class별 비율과 평균운임은 다음과 같다\n",
      "{'1st class': '52.22%', '2nd class': '10.37%', '3rd class': '37.41%'}\n",
      "62.34\n",
      "\n",
      "Southampton에서 탄 사람의 class별 비율과 평균운임은 다음과 같다\n",
      "{'1st class': '19.37%', '2nd class': '26.48%', '3rd class': '54.16%'}\n",
      "27.42\n"
     ]
    }
   ],
   "source": [
    "# 1. 각각의 클래스 데이터와 운임 데이터에서 빈 항목이 있는지 살펴본다\n",
    "empty_titanic = titanic.apply(lambda col: pd.isnull(col))\n",
    "def count_empty(data, col):\n",
    "    count_empty = 0\n",
    "    for i in range(len(data)):\n",
    "        if (col.iloc[i] == True):\n",
    "            count_empty += 1\n",
    "    return count_empty\n",
    "# empty_titanic[(empty_titanic.pclass == True) | (empty_titanic.fare == True)]\n",
    "# 현재 1225번째 승객과 1309번째 승객의 데이터에서 각각 fare와 pclass 데이터가 빠져있다.\n",
    "# 다만 1309번째 승객은 빈 데이터이므로 삭제하는 것이 낫고, 1225번째 승객은 fare에 빈값만 채워준다\n",
    "titanic = titanic.dropna(how='all')\n",
    "titanic = titanic.fillna(\"\")\n",
    "titanic\n",
    "\n",
    "# 2. 이렇게 수정된 데이터를 다시 승선항별로 filtering한다. 이때 C = Cherbourg; Q = Queenstown; S = Southampton이다\n",
    "C = titanic[titanic.embarked == \"C\"]\n",
    "Q = titanic[titanic.embarked == \"Q\"]\n",
    "S = titanic[titanic.embarked == \"S\"]\n",
    "# print(len(C))\n",
    "# print(len(Q))\n",
    "# print(len(S))\n",
    "\n",
    "# 3. 승선항별 각각의 class에 탄 사람들의 비율을 구한다.\n",
    "def class_count(data, number):\n",
    "    # 각각의 데이터에 대해서 데이터 항목의 개수가 다르기 때문에 데이터 역시 매개변수로 넣어주어야 함\n",
    "    class_count = 0\n",
    "    for i in range(len(data)):\n",
    "        if data.pclass.iloc[i] == number:\n",
    "            class_count += 1\n",
    "    ratio = round(float(class_count / len(data)) * 100, 2)\n",
    "    return ratio\n",
    "\n",
    "def class_count_ratio(index):\n",
    "    class_count_ratio = {}\n",
    "    for i in range(1,4):\n",
    "        if i == 1:\n",
    "            class_count_ratio[str(i) + \"st class\"] = str(class_count(index, i)) + \"%\"\n",
    "        elif i == 2:\n",
    "            class_count_ratio[str(i) + \"nd class\"] = str(class_count(index, i)) + \"%\"\n",
    "        else:\n",
    "            class_count_ratio[str(i) + \"rd class\"] = str(class_count(index, i)) + \"%\"\n",
    "    return class_count_ratio\n",
    "\n",
    "# 4. 승선항별로 사람들의 운임 평균을 구한다.\n",
    "def fare_mean(data):\n",
    "    fare_sum = 0\n",
    "    null_count = 0\n",
    "    for i in range(len(data)):\n",
    "        if data.fare.iloc[i] == \"\":\n",
    "            null_count += 1\n",
    "        else:\n",
    "            fare_sum += data.fare.iloc[i]\n",
    "    fare_mean = round(float(fare_sum / (len(data) - null_count)), 2)\n",
    "    return fare_mean\n",
    "\n",
    "print(\"Queensland에서 탄 사람의 class별 비율과 평균운임은 다음과 같다\")\n",
    "print(class_count_ratio(Q))\n",
    "print(fare_mean(Q))\n",
    "print(\"\")\n",
    "print(\"Cherbourg에서 탄 사람의 class별 비율과 평균운임은 다음과 같다\")\n",
    "print(class_count_ratio(C))\n",
    "print(fare_mean(C))\n",
    "print(\"\")\n",
    "print(\"Southampton에서 탄 사람의 class별 비율과 평균운임은 다음과 같다\")\n",
    "print(class_count_ratio(S))\n",
    "print(fare_mean(S))"
   ]
  },
  {
   "cell_type": "code",
   "execution_count": null,
   "metadata": {},
   "outputs": [],
   "source": []
  },
  {
   "cell_type": "code",
   "execution_count": null,
   "metadata": {},
   "outputs": [],
   "source": []
  }
 ],
 "metadata": {
  "kernelspec": {
   "display_name": "Python 3",
   "language": "python",
   "name": "python3"
  },
  "language_info": {
   "codemirror_mode": {
    "name": "ipython",
    "version": 3
   },
   "file_extension": ".py",
   "mimetype": "text/x-python",
   "name": "python",
   "nbconvert_exporter": "python",
   "pygments_lexer": "ipython3",
   "version": "3.7.0"
  }
 },
 "nbformat": 4,
 "nbformat_minor": 1
}
